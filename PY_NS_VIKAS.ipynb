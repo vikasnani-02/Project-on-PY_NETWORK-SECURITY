{
  "nbformat": 4,
  "nbformat_minor": 0,
  "metadata": {
    "colab": {
      "name": "PY_NS_VIKAS.ipynb",
      "provenance": []
    },
    "kernelspec": {
      "name": "python3",
      "display_name": "Python 3"
    },
    "language_info": {
      "name": "python"
    }
  },
  "cells": [
    {
      "cell_type": "code",
      "metadata": {
        "colab": {
          "base_uri": "https://localhost:8080/"
        },
        "id": "wG8RxbqeMNqO",
        "outputId": "794f86a2-073c-4306-a3af-0c9c414ebd5c"
      },
      "source": [
        "#Program in python to genearte MD5 of string data\n",
        "\n",
        "import hashlib\n",
        "\n",
        "\n",
        "given_str = b\"Hello world\"\n",
        "given_str_2 = b\"Hello world !!\"\n",
        "\n",
        "\n",
        "md5_value = hashlib.md5(given_str)\n",
        "md5_value_2 = hashlib.md5(given_str_2)\n",
        "\n",
        "\n",
        "print(md5_value.hexdigest())\n",
        "print(md5_value_2.hexdigest())"
      ],
      "execution_count": 1,
      "outputs": [
        {
          "output_type": "stream",
          "text": [
            "3e25960a79dbc69b674cd4ec67a72c62\n",
            "10f73d16d32cf89e1f7cab7589be965b\n"
          ],
          "name": "stdout"
        }
      ]
    },
    {
      "cell_type": "code",
      "metadata": {
        "colab": {
          "base_uri": "https://localhost:8080/"
        },
        "id": "bBNjUd_xMXVq",
        "outputId": "3e35642c-55c1-4e0b-bde3-ccf78885521d"
      },
      "source": [
        "#Using algorithm from hashlib\n",
        "\n",
        "import hashlib\n",
        "\n",
        "message = \"VIKAS\".encode()\n",
        "print(\"MD5:\", hashlib.md5(message).hexdigest())"
      ],
      "execution_count": 2,
      "outputs": [
        {
          "output_type": "stream",
          "text": [
            "MD5: 11b4c47969c869ba4dc703bb9448922c\n"
          ],
          "name": "stdout"
        }
      ]
    }
  ]
}